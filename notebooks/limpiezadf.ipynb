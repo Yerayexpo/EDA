{
 "cells": [
  {
   "cell_type": "code",
   "execution_count": 5,
   "metadata": {},
   "outputs": [],
   "source": [
    "import pandas as pd\n",
    "import numpy as np\n",
    "import seaborn as sns\n",
    "import requests\n",
    "from matplotlib import pyplot as plt\n",
    "\n",
    "df = pd.read_csv(r'C:\\Users\\yeray\\notebooks\\modificaciones sobremesa\\Rampup\\2-Data_Analysis\\Entregas\\EDA\\data\\megadata.csv')"
   ]
  },
  {
   "cell_type": "code",
   "execution_count": 6,
   "metadata": {},
   "outputs": [
    {
     "name": "stdout",
     "output_type": "stream",
     "text": [
      "<class 'pandas.core.frame.DataFrame'>\n",
      "RangeIndex: 359706 entries, 0 to 359705\n",
      "Data columns (total 13 columns):\n",
      " #   Column             Non-Null Count   Dtype  \n",
      "---  ------             --------------   -----  \n",
      " 0   ID                 359706 non-null  int64  \n",
      " 1   Titulo             359705 non-null  object \n",
      " 2   Generos            272339 non-null  object \n",
      " 3   Idioma original    359706 non-null  object \n",
      " 4   Popularidad        359706 non-null  float64\n",
      " 5   Lanzamiento        347251 non-null  object \n",
      " 6   Presupuesto        359706 non-null  int64  \n",
      " 7   Duracion           359706 non-null  int64  \n",
      " 8   Sinopsis           317947 non-null  object \n",
      " 9   Puntuacion         359706 non-null  float64\n",
      " 10  Numero de votos    359706 non-null  int64  \n",
      " 11  Idiomas hablados   254167 non-null  object \n",
      " 12  Imagen de portada  256973 non-null  object \n",
      "dtypes: float64(2), int64(4), object(7)\n",
      "memory usage: 35.7+ MB\n"
     ]
    }
   ],
   "source": [
    "df.info()"
   ]
  },
  {
   "cell_type": "code",
   "execution_count": 7,
   "metadata": {},
   "outputs": [
    {
     "data": {
      "text/html": [
       "<div>\n",
       "<style scoped>\n",
       "    .dataframe tbody tr th:only-of-type {\n",
       "        vertical-align: middle;\n",
       "    }\n",
       "\n",
       "    .dataframe tbody tr th {\n",
       "        vertical-align: top;\n",
       "    }\n",
       "\n",
       "    .dataframe thead th {\n",
       "        text-align: right;\n",
       "    }\n",
       "</style>\n",
       "<table border=\"1\" class=\"dataframe\">\n",
       "  <thead>\n",
       "    <tr style=\"text-align: right;\">\n",
       "      <th></th>\n",
       "      <th>ID</th>\n",
       "      <th>Popularidad</th>\n",
       "      <th>Presupuesto</th>\n",
       "      <th>Duracion</th>\n",
       "      <th>Puntuacion</th>\n",
       "      <th>Numero de votos</th>\n",
       "    </tr>\n",
       "  </thead>\n",
       "  <tbody>\n",
       "    <tr>\n",
       "      <th>count</th>\n",
       "      <td>359706.000000</td>\n",
       "      <td>359706.000000</td>\n",
       "      <td>3.597060e+05</td>\n",
       "      <td>359706.000000</td>\n",
       "      <td>359706.000000</td>\n",
       "      <td>359706.000000</td>\n",
       "    </tr>\n",
       "    <tr>\n",
       "      <th>mean</th>\n",
       "      <td>268881.936267</td>\n",
       "      <td>1.916538</td>\n",
       "      <td>6.916782e+05</td>\n",
       "      <td>63.738656</td>\n",
       "      <td>3.607449</td>\n",
       "      <td>51.180567</td>\n",
       "    </tr>\n",
       "    <tr>\n",
       "      <th>std</th>\n",
       "      <td>146248.365517</td>\n",
       "      <td>17.259982</td>\n",
       "      <td>7.490697e+06</td>\n",
       "      <td>129.614602</td>\n",
       "      <td>3.168981</td>\n",
       "      <td>533.003852</td>\n",
       "    </tr>\n",
       "    <tr>\n",
       "      <th>min</th>\n",
       "      <td>2.000000</td>\n",
       "      <td>0.600000</td>\n",
       "      <td>0.000000e+00</td>\n",
       "      <td>0.000000</td>\n",
       "      <td>0.000000</td>\n",
       "      <td>0.000000</td>\n",
       "    </tr>\n",
       "    <tr>\n",
       "      <th>25%</th>\n",
       "      <td>137278.500000</td>\n",
       "      <td>0.600000</td>\n",
       "      <td>0.000000e+00</td>\n",
       "      <td>8.000000</td>\n",
       "      <td>0.000000</td>\n",
       "      <td>0.000000</td>\n",
       "    </tr>\n",
       "    <tr>\n",
       "      <th>50%</th>\n",
       "      <td>289358.500000</td>\n",
       "      <td>0.658000</td>\n",
       "      <td>0.000000e+00</td>\n",
       "      <td>77.000000</td>\n",
       "      <td>4.600000</td>\n",
       "      <td>1.000000</td>\n",
       "    </tr>\n",
       "    <tr>\n",
       "      <th>75%</th>\n",
       "      <td>393137.750000</td>\n",
       "      <td>1.400000</td>\n",
       "      <td>0.000000e+00</td>\n",
       "      <td>95.000000</td>\n",
       "      <td>6.200000</td>\n",
       "      <td>5.000000</td>\n",
       "    </tr>\n",
       "    <tr>\n",
       "      <th>max</th>\n",
       "      <td>499999.000000</td>\n",
       "      <td>9505.705000</td>\n",
       "      <td>1.000000e+09</td>\n",
       "      <td>51420.000000</td>\n",
       "      <td>10.000000</td>\n",
       "      <td>33423.000000</td>\n",
       "    </tr>\n",
       "  </tbody>\n",
       "</table>\n",
       "</div>"
      ],
      "text/plain": [
       "                  ID    Popularidad   Presupuesto       Duracion  \\\n",
       "count  359706.000000  359706.000000  3.597060e+05  359706.000000   \n",
       "mean   268881.936267       1.916538  6.916782e+05      63.738656   \n",
       "std    146248.365517      17.259982  7.490697e+06     129.614602   \n",
       "min         2.000000       0.600000  0.000000e+00       0.000000   \n",
       "25%    137278.500000       0.600000  0.000000e+00       8.000000   \n",
       "50%    289358.500000       0.658000  0.000000e+00      77.000000   \n",
       "75%    393137.750000       1.400000  0.000000e+00      95.000000   \n",
       "max    499999.000000    9505.705000  1.000000e+09   51420.000000   \n",
       "\n",
       "          Puntuacion  Numero de votos  \n",
       "count  359706.000000    359706.000000  \n",
       "mean        3.607449        51.180567  \n",
       "std         3.168981       533.003852  \n",
       "min         0.000000         0.000000  \n",
       "25%         0.000000         0.000000  \n",
       "50%         4.600000         1.000000  \n",
       "75%         6.200000         5.000000  \n",
       "max        10.000000     33423.000000  "
      ]
     },
     "execution_count": 7,
     "metadata": {},
     "output_type": "execute_result"
    }
   ],
   "source": [
    "df.describe()"
   ]
  },
  {
   "cell_type": "code",
   "execution_count": 8,
   "metadata": {},
   "outputs": [],
   "source": [
    "#Rellenamos generos \n",
    "df['Generos'].fillna('Desconocido', inplace=True)\n",
    "#Convertimos a datetime la columna\n",
    "df['Lanzamiento'] = pd.to_datetime(df['Lanzamiento'])\n",
    "#Eliminamos las filas con fechas superiores a 2020\n",
    "df = df[df['Lanzamiento'].dt.year < 2020]\n",
    "#Rellenamos idiomas\n",
    "df['Idiomas hablados'].fillna('Desconocido', inplace=True)\n",
    "#Convertimos a string el titulos y eliminamos las peliculas delicadas\n",
    "df['Titulo'] = df['Titulo'].astype(str)\n",
    "df = df[~df['Titulo'].str.contains('sex', case=False)]\n",
    "df = df.drop(df[df['Presupuesto'] > 400000000].index)"
   ]
  },
  {
   "cell_type": "code",
   "execution_count": 9,
   "metadata": {},
   "outputs": [],
   "source": [
    "# Dividir la columna \"Generos\" en varias columnas\n",
    "df_generos = df['Generos'].str.split(',', n=5, expand=True)\n",
    "df_generos.columns = ['Genero 1', 'Genero 2', 'Genero 3', 'Genero 4', 'Genero 5','Genero 6']\n",
    "df2 = pd.concat([df, df_generos], axis=1)\n",
    "df2.drop('Generos', axis=1, inplace=True)\n",
    "df2.drop('Sinopsis', axis=1, inplace=True)"
   ]
  },
  {
   "cell_type": "code",
   "execution_count": 10,
   "metadata": {},
   "outputs": [],
   "source": [
    "df2.to_csv(r'C:\\Users\\yeray\\notebooks\\modificaciones sobremesa\\Rampup\\2-Data_Analysis\\Entregas\\EDA\\data\\peliculas.csv', index=False)"
   ]
  }
 ],
 "metadata": {
  "kernelspec": {
   "display_name": "ramp_up",
   "language": "python",
   "name": "python3"
  },
  "language_info": {
   "codemirror_mode": {
    "name": "ipython",
    "version": 3
   },
   "file_extension": ".py",
   "mimetype": "text/x-python",
   "name": "python",
   "nbconvert_exporter": "python",
   "pygments_lexer": "ipython3",
   "version": "3.9.16"
  },
  "orig_nbformat": 4
 },
 "nbformat": 4,
 "nbformat_minor": 2
}
